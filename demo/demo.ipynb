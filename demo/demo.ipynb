{
  "nbformat": 4,
  "nbformat_minor": 0,
  "metadata": {
    "colab": {
      "name": "Tthinker_demo.ipynb",
      "provenance": [],
      "collapsed_sections": [],
      "toc_visible": true
    },
    "kernelspec": {
      "display_name": "Python 3",
      "language": "python",
      "name": "python3"
    },
    "language_info": {
      "codemirror_mode": {
        "name": "ipython",
        "version": 3
      },
      "file_extension": ".py",
      "mimetype": "text/x-python",
      "name": "python",
      "nbconvert_exporter": "python",
      "pygments_lexer": "ipython3",
      "version": "3.7.6"
    }
  },
  "cells": [
    {
      "cell_type": "markdown",
      "metadata": {
        "id": "Zx4ajvM1BJIH"
      },
      "source": [
        "## Getting Code and Preparing Executable Programs\n",
        "\n",
        "Getting the GitHub Codebase"
      ]
    },
    {
      "cell_type": "code",
      "metadata": {
        "id": "fWQ4jc2ZA0XG"
      },
      "source": [
        "!wget https://github.com/yanlab19870714/Tthinker/archive/main.zip #download\n",
        "!unzip main.zip # decompress\n",
        "!rm main.zip # now that \"Tthinker-main\" folder is available, remove zip file "
      ],
      "execution_count": null,
      "outputs": []
    },
    {
      "cell_type": "markdown",
      "metadata": {
        "id": "gfpNZw7UC66p"
      },
      "source": [
        "Compiling the programs"
      ]
    },
    {
      "cell_type": "code",
      "metadata": {
        "id": "EYs_e6DCDAbm"
      },
      "source": [
        "!cd Tthinker-main/app_qc && make clean && make # program: run\n",
        "!cd Tthinker-main/maximal_check && make clean && make # program: quasiCliques\n",
        "!cd Tthinker-main/app_kernel && make clean && make # program: run"
      ],
      "execution_count": null,
      "outputs": []
    },
    {
      "cell_type": "markdown",
      "metadata": {
        "id": "asRYsMZFAbg3"
      },
      "source": [
        "## Preparing the Test Dataset: Arxiv GR-QC\n",
        "\n",
        "The dataset is an arXiv collaboration network. More details can be found here: https://snap.stanford.edu/data/ca-GrQc.html"
      ]
    },
    {
      "cell_type": "code",
      "metadata": {
        "id": "A3tAJ_c2LHKd"
      },
      "source": [
        "!wget https://snap.stanford.edu/data/ca-GrQc.txt.gz"
      ],
      "execution_count": null,
      "outputs": []
    },
    {
      "cell_type": "markdown",
      "metadata": {
        "id": "oZllb7ufBYf-"
      },
      "source": [
        "Decompress (unzip) the dataset"
      ]
    },
    {
      "cell_type": "code",
      "metadata": {
        "id": "RY1lU-DpLHKe"
      },
      "source": [
        "!gunzip ca-GrQc.txt.gz # this will give you the file \"ca-GrQc.txt\""
      ],
      "execution_count": null,
      "outputs": []
    },
    {
      "cell_type": "markdown",
      "metadata": {
        "id": "LGbds4uP_yh3"
      },
      "source": [
        "Take a look at the file"
      ]
    },
    {
      "cell_type": "code",
      "metadata": {
        "id": "ad7RaDI-_yh3"
      },
      "source": [
        "!head ca-GrQc.txt"
      ],
      "execution_count": null,
      "outputs": []
    },
    {
      "cell_type": "markdown",
      "metadata": {
        "id": "TY5Yd70iBdoH"
      },
      "source": [
        "The first 4 lines are metadata, remove them so that we get an edge list"
      ]
    },
    {
      "cell_type": "code",
      "metadata": {
        "id": "V8iF141WLHKe"
      },
      "source": [
        "!sed -i'.original' -e '1,4d' ca-GrQc.txt"
      ],
      "execution_count": null,
      "outputs": []
    },
    {
      "cell_type": "code",
      "metadata": {
        "id": "H8QcehGl_yh5"
      },
      "source": [
        "!head ca-GrQc.txt"
      ],
      "execution_count": null,
      "outputs": []
    },
    {
      "cell_type": "code",
      "metadata": {
        "id": "KnQAojzeI9PM"
      },
      "source": [
        "!rm ca-GrQc.txt.original"
      ],
      "execution_count": null,
      "outputs": []
    },
    {
      "cell_type": "markdown",
      "metadata": {
        "id": "J0WktKKXCHOw"
      },
      "source": [
        "Convert the edge format to adjacent list format"
      ]
    },
    {
      "cell_type": "code",
      "metadata": {
        "id": "sLtW8UWgLHKe"
      },
      "source": [
        "!python3 Tthinker-main/demo/edge2adj.py ca-GrQc.txt # this generates file ca-GrQc.txt_adj"
      ],
      "execution_count": null,
      "outputs": []
    },
    {
      "cell_type": "code",
      "metadata": {
        "id": "j-Ru4dbw_yh6"
      },
      "source": [
        "!head ca-GrQc.txt_adj # vertex_ID  adjacency_list_length \\t neigbhor1ID  neigbhor2ID  ..."
      ],
      "execution_count": null,
      "outputs": []
    },
    {
      "cell_type": "markdown",
      "metadata": {
        "id": "RjQWp9o1CKv4"
      },
      "source": [
        "The quasi-clique input format should be one vertex per line, and each line only needs the vertex IDs in the adjacency list.\n",
        "\n",
        "Right now the vertices have been sorted by ID, however, there are some missing vertices like 15 and 23 which we need to insert empty lines.\n",
        "\n",
        "We also need to remove the first 2 columns which are not part of the adjacency lists. The output file is named as `input_data`."
      ]
    },
    {
      "cell_type": "code",
      "metadata": {
        "id": "fw341AKGLHKf"
      },
      "source": [
        "!cp Tthinker-main/demo/prepare_quick.sh .\n",
        "!cp Tthinker-main/demo/add_null.py .\n",
        "!chmod +x prepare_quick.sh\n",
        "!./prepare_quick.sh ca-GrQc.txt_adj input_data"
      ],
      "execution_count": null,
      "outputs": []
    },
    {
      "cell_type": "markdown",
      "metadata": {
        "id": "cqQ_9cTd_yh7"
      },
      "source": [
        "## Computing Maximal 0.8-Quasi-Cliques with at Least 10 Vertices"
      ]
    },
    {
      "cell_type": "markdown",
      "metadata": {
        "id": "kui5waiwCV-2"
      },
      "source": [
        "Run quasi-clique program: ./run [input_data] [thread_num] [ratio] [min_size] [time_split_threshold]"
      ]
    },
    {
      "cell_type": "code",
      "metadata": {
        "id": "_cmmB0ssLHKf",
        "scrolled": true
      },
      "source": [
        "!Tthinker-main/app_qc/run input_data 5 0.8 10 5"
      ],
      "execution_count": null,
      "outputs": []
    },
    {
      "cell_type": "markdown",
      "metadata": {
        "id": "LNWLpywzw5bf"
      },
      "source": [
        "Collect the result generated by different threads and post-process the result"
      ]
    },
    {
      "cell_type": "code",
      "metadata": {
        "id": "xP1yG55ELHKf"
      },
      "source": [
        "!cat output_* > result && rm output_* # get the \"result\" file\n",
        "!Tthinker-main/maximal_check/quasiCliques result maximal_result # remove non-maximals"
      ],
      "execution_count": null,
      "outputs": []
    },
    {
      "cell_type": "markdown",
      "metadata": {
        "id": "5Hirk6Qvw83G"
      },
      "source": [
        "Read the edgelist"
      ]
    },
    {
      "cell_type": "code",
      "metadata": {
        "id": "w-QvKZ6PLHKg"
      },
      "source": [
        "import networkx as nx\n",
        "import matplotlib.pyplot as plt\n",
        "import pickle\n",
        "\n",
        "fh=open(\"ca-GrQc.txt\", 'rb')\n",
        "#G=nx.read_adjlist(fh)\n",
        "G=nx.read_edgelist(fh)\n",
        "fh.close()"
      ],
      "execution_count": null,
      "outputs": []
    },
    {
      "cell_type": "markdown",
      "metadata": {
        "id": "caTvNqNHxAy2"
      },
      "source": [
        "Get the top-2 quasi-clique in the result"
      ]
    },
    {
      "cell_type": "code",
      "metadata": {
        "id": "B7t6DMSRLHKg"
      },
      "source": [
        "with open('maximal_result') as f:\n",
        "    first_line = f.readline()\n",
        "    sec_line = f.readline()\n",
        "max_qc = set(first_line.split()[1:]) # remove the first number which is the quasi-clique size\n",
        "sec_qc = set(sec_line.split()[1:]) # remove the first number which is the quasi-clique size\n",
        "print(len(max_qc))\n",
        "print(len(sec_qc))"
      ],
      "execution_count": null,
      "outputs": []
    },
    {
      "cell_type": "markdown",
      "metadata": {
        "id": "A2j2SfNSxDbm"
      },
      "source": [
        "Print the largest quasi-clique"
      ]
    },
    {
      "cell_type": "code",
      "metadata": {
        "id": "5P4c6_qlLHKg",
        "scrolled": true
      },
      "source": [
        "S1 = G.subgraph(max_qc)\n",
        "nx.draw(S1)\n",
        "plt.show()"
      ],
      "execution_count": null,
      "outputs": []
    },
    {
      "cell_type": "markdown",
      "metadata": {
        "id": "M93pHd30xMft"
      },
      "source": [
        "Print the second largest quasi-clique"
      ]
    },
    {
      "cell_type": "code",
      "metadata": {
        "id": "z_O-0E7YLHKg"
      },
      "source": [
        "S2 = G.subgraph(sec_qc)\n",
        "npos=nx.circular_layout(S2)\n",
        "nx.draw(S2, npos, with_labels = True, node_size = 30)\n",
        "plt.show()"
      ],
      "execution_count": null,
      "outputs": []
    },
    {
      "cell_type": "code",
      "metadata": {
        "id": "vyX7DM2SLG_a"
      },
      "source": [
        "# The End"
      ],
      "execution_count": null,
      "outputs": []
    }
  ]
}