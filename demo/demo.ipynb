{
 "cells": [
  {
   "cell_type": "code",
   "execution_count": 3,
   "metadata": {
    "colab": {
     "base_uri": "https://localhost:8080/",
     "height": 17
    },
    "id": "zoWz43h8LHKW",
    "outputId": "03caccdf-4960-4be6-bebc-0c7a1ad9ca15"
   },
   "outputs": [
    {
     "data": {
      "application/javascript": [
       "IPython.notebook.clear_all_output();\n"
      ],
      "text/plain": [
       "<IPython.core.display.Javascript object>"
      ]
     },
     "metadata": {},
     "output_type": "display_data"
    }
   ],
   "source": [
    "%%javascript\n",
    "IPython.notebook.clear_all_output();"
   ]
  },
  {
   "cell_type": "markdown",
   "metadata": {
    "id": "Qmqqn7_nAKjw"
   },
   "source": [
    "## Get required files"
   ]
  },
  {
   "cell_type": "code",
   "execution_count": 4,
   "metadata": {
    "colab": {
     "base_uri": "https://localhost:8080/"
    },
    "id": "JH8bnyJvdZ4D",
    "outputId": "eae40048-f14d-41c3-ca4e-fca88ada9094",
    "scrolled": true
   },
   "outputs": [
    {
     "name": "stdout",
     "output_type": "stream",
     "text": [
      "--2021-03-04 17:13:47--  https://drive.google.com/uc?export=download&id=1lV6JUn2-g2A5_ZlckKTxzg2ObADnKX0_\n",
      "Resolving drive.google.com (drive.google.com)... 172.217.4.238\n",
      "Connecting to drive.google.com (drive.google.com)|172.217.4.238|:443... connected.\n",
      "HTTP request sent, awaiting response... 302 Moved Temporarily\n",
      "Location: https://doc-04-6s-docs.googleusercontent.com/docs/securesc/ha0ro937gcuc7l7deffksulhg5h7mbp1/ttnc8gbe7tdsdpnub9urv6v0buvkuoob/1614899625000/09552349482017050098/*/1lV6JUn2-g2A5_ZlckKTxzg2ObADnKX0_?e=download [following]\n",
      "Warning: wildcards not supported in HTTP.\n",
      "--2021-03-04 17:13:48--  https://doc-04-6s-docs.googleusercontent.com/docs/securesc/ha0ro937gcuc7l7deffksulhg5h7mbp1/ttnc8gbe7tdsdpnub9urv6v0buvkuoob/1614899625000/09552349482017050098/*/1lV6JUn2-g2A5_ZlckKTxzg2ObADnKX0_?e=download\n",
      "Resolving doc-04-6s-docs.googleusercontent.com (doc-04-6s-docs.googleusercontent.com)... 172.217.9.65\n",
      "Connecting to doc-04-6s-docs.googleusercontent.com (doc-04-6s-docs.googleusercontent.com)|172.217.9.65|:443... connected.\n",
      "HTTP request sent, awaiting response... 200 OK\n",
      "Length: 336 [text/plain]\n",
      "Saving to: ‘add_null.py’\n",
      "\n",
      "add_null.py         100%[===================>]     336  --.-KB/s    in 0s      \n",
      "\n",
      "2021-03-04 17:13:48 (9.71 MB/s) - ‘add_null.py’ saved [336/336]\n",
      "\n",
      "--2021-03-04 17:13:48--  https://drive.google.com/uc?export=download&id=1izG_ZHCWpYRQgO7_Nd0m9F4HUwG1tX3r\n",
      "Resolving drive.google.com (drive.google.com)... 172.217.4.238\n",
      "Connecting to drive.google.com (drive.google.com)|172.217.4.238|:443... connected.\n",
      "HTTP request sent, awaiting response... 302 Moved Temporarily\n",
      "Location: https://doc-0k-6s-docs.googleusercontent.com/docs/securesc/ha0ro937gcuc7l7deffksulhg5h7mbp1/hbhonq4nvo0ptktc1qd4rd9k4ttvihbb/1614899625000/09552349482017050098/*/1izG_ZHCWpYRQgO7_Nd0m9F4HUwG1tX3r?e=download [following]\n",
      "Warning: wildcards not supported in HTTP.\n",
      "--2021-03-04 17:13:49--  https://doc-0k-6s-docs.googleusercontent.com/docs/securesc/ha0ro937gcuc7l7deffksulhg5h7mbp1/hbhonq4nvo0ptktc1qd4rd9k4ttvihbb/1614899625000/09552349482017050098/*/1izG_ZHCWpYRQgO7_Nd0m9F4HUwG1tX3r?e=download\n",
      "Resolving doc-0k-6s-docs.googleusercontent.com (doc-0k-6s-docs.googleusercontent.com)... 172.217.9.65\n",
      "Connecting to doc-0k-6s-docs.googleusercontent.com (doc-0k-6s-docs.googleusercontent.com)|172.217.9.65|:443... connected.\n",
      "HTTP request sent, awaiting response... 200 OK\n",
      "Length: 933 [text/plain]\n",
      "Saving to: ‘edge2adj.py’\n",
      "\n",
      "edge2adj.py         100%[===================>]     933  --.-KB/s    in 0s      \n",
      "\n",
      "2021-03-04 17:13:49 (15.9 MB/s) - ‘edge2adj.py’ saved [933/933]\n",
      "\n",
      "--2021-03-04 17:13:49--  https://drive.google.com/uc?export=download&id=1CaFceO5qJnbQ0KdXt68zzPqR0-Vgn0l0\n",
      "Resolving drive.google.com (drive.google.com)... 172.217.4.238\n",
      "Connecting to drive.google.com (drive.google.com)|172.217.4.238|:443... connected.\n",
      "HTTP request sent, awaiting response... 302 Moved Temporarily\n",
      "Location: https://doc-14-6s-docs.googleusercontent.com/docs/securesc/ha0ro937gcuc7l7deffksulhg5h7mbp1/8r9d7ihoemsfb4qahvmneo5c9ofll6r2/1614899625000/09552349482017050098/*/1CaFceO5qJnbQ0KdXt68zzPqR0-Vgn0l0?e=download [following]\n",
      "Warning: wildcards not supported in HTTP.\n",
      "--2021-03-04 17:13:50--  https://doc-14-6s-docs.googleusercontent.com/docs/securesc/ha0ro937gcuc7l7deffksulhg5h7mbp1/8r9d7ihoemsfb4qahvmneo5c9ofll6r2/1614899625000/09552349482017050098/*/1CaFceO5qJnbQ0KdXt68zzPqR0-Vgn0l0?e=download\n",
      "Resolving doc-14-6s-docs.googleusercontent.com (doc-14-6s-docs.googleusercontent.com)... 172.217.9.65\n",
      "Connecting to doc-14-6s-docs.googleusercontent.com (doc-14-6s-docs.googleusercontent.com)|172.217.9.65|:443... connected.\n",
      "HTTP request sent, awaiting response... 200 OK\n",
      "Length: 148 [text/x-sh]\n",
      "Saving to: ‘prepare_quick.sh’\n",
      "\n",
      "prepare_quick.sh    100%[===================>]     148  --.-KB/s    in 0s      \n",
      "\n",
      "2021-03-04 17:13:50 (4.03 MB/s) - ‘prepare_quick.sh’ saved [148/148]\n",
      "\n",
      "--2021-03-04 17:13:50--  https://github.com/jalal1/T-thinker/archive/master.zip\n",
      "Resolving github.com (github.com)... 140.82.114.3\n",
      "Connecting to github.com (github.com)|140.82.114.3|:443... connected.\n",
      "HTTP request sent, awaiting response... 302 Found\n",
      "Location: https://codeload.github.com/jalal1/T-thinker/zip/master [following]\n",
      "--2021-03-04 17:13:50--  https://codeload.github.com/jalal1/T-thinker/zip/master\n",
      "Resolving codeload.github.com (codeload.github.com)... 140.82.114.9\n",
      "Connecting to codeload.github.com (codeload.github.com)|140.82.114.9|:443... connected.\n",
      "HTTP request sent, awaiting response... 200 OK\n",
      "Length: 1061573 (1.0M) [application/zip]\n",
      "Saving to: ‘T-thinker.zip’\n",
      "\n",
      "T-thinker.zip       100%[===================>]   1.01M  3.09MB/s    in 0.3s    \n",
      "\n",
      "2021-03-04 17:13:51 (3.09 MB/s) - ‘T-thinker.zip’ saved [1061573/1061573]\n",
      "\n"
     ]
    }
   ],
   "source": [
    "!wget \"https://drive.google.com/uc?export=download&id=1lV6JUn2-g2A5_ZlckKTxzg2ObADnKX0_\" -O add_null.py\n",
    "!wget \"https://drive.google.com/uc?export=download&id=1izG_ZHCWpYRQgO7_Nd0m9F4HUwG1tX3r\" -O edge2adj.py\n",
    "!wget \"https://drive.google.com/uc?export=download&id=1CaFceO5qJnbQ0KdXt68zzPqR0-Vgn0l0\" -O prepare_quick.sh\n",
    "!wget \"https://github.com/jalal1/T-thinker/archive/master.zip\" -O T-thinker.zip"
   ]
  },
  {
   "cell_type": "markdown",
   "metadata": {
    "id": "asRYsMZFAbg3"
   },
   "source": [
    "## Preparing the Test Dataset: Arxiv GR-QC\n",
    "\n",
    "The dataset is an arXiv collaboration network. More details can be found here: https://snap.stanford.edu/data/ca-GrQc.html"
   ]
  },
  {
   "cell_type": "code",
   "execution_count": 21,
   "metadata": {
    "colab": {
     "base_uri": "https://localhost:8080/"
    },
    "id": "A3tAJ_c2LHKd",
    "outputId": "fa675fc2-7d02-475e-eb3d-2a453427bc54"
   },
   "outputs": [
    {
     "name": "stdout",
     "output_type": "stream",
     "text": [
      "--2021-03-04 17:21:33--  https://snap.stanford.edu/data/ca-GrQc.txt.gz\n",
      "Resolving snap.stanford.edu (snap.stanford.edu)... 171.64.75.80\n",
      "Connecting to snap.stanford.edu (snap.stanford.edu)|171.64.75.80|:443... connected.\n",
      "HTTP request sent, awaiting response... 200 OK\n",
      "Length: 109261 (107K) [application/x-gzip]\n",
      "Saving to: ‘ca-GrQc.txt.gz’\n",
      "\n",
      "ca-GrQc.txt.gz      100%[===================>] 106.70K   282KB/s    in 0.4s    \n",
      "\n",
      "2021-03-04 17:21:34 (282 KB/s) - ‘ca-GrQc.txt.gz’ saved [109261/109261]\n",
      "\n"
     ]
    }
   ],
   "source": [
    "!wget https://snap.stanford.edu/data/ca-GrQc.txt.gz"
   ]
  },
  {
   "cell_type": "markdown",
   "metadata": {
    "id": "oZllb7ufBYf-"
   },
   "source": [
    "Decompress (unzip) the dataset"
   ]
  },
  {
   "cell_type": "code",
   "execution_count": 22,
   "metadata": {
    "id": "RY1lU-DpLHKe"
   },
   "outputs": [],
   "source": [
    "!gunzip ca-GrQc.txt.gz # this will give you the file \"ca-GrQc.txt\""
   ]
  },
  {
   "cell_type": "markdown",
   "metadata": {},
   "source": [
    "Take a look at the file"
   ]
  },
  {
   "cell_type": "code",
   "execution_count": 23,
   "metadata": {},
   "outputs": [
    {
     "name": "stdout",
     "output_type": "stream",
     "text": [
      "# Directed graph (each unordered pair of nodes is saved once): CA-GrQc.txt \r",
      "\r\n",
      "# Collaboration network of Arxiv General Relativity category (there is an edge if authors coauthored at least one paper)\r",
      "\r\n",
      "# Nodes: 5242 Edges: 28980\r",
      "\r\n",
      "# FromNodeId\tToNodeId\r",
      "\r\n",
      "3466\t937\r",
      "\r\n",
      "3466\t5233\r",
      "\r\n",
      "3466\t8579\r",
      "\r\n",
      "3466\t10310\r",
      "\r\n",
      "3466\t15931\r",
      "\r\n",
      "3466\t17038\r",
      "\r\n"
     ]
    }
   ],
   "source": [
    "!head ca-GrQc.txt"
   ]
  },
  {
   "cell_type": "markdown",
   "metadata": {
    "id": "TY5Yd70iBdoH"
   },
   "source": [
    "The first 4 lines are metadata, remove them so that we get an edge list"
   ]
  },
  {
   "cell_type": "code",
   "execution_count": 24,
   "metadata": {
    "id": "V8iF141WLHKe"
   },
   "outputs": [],
   "source": [
    "!sed -i'.original' -e '1,4d' ca-GrQc.txt"
   ]
  },
  {
   "cell_type": "code",
   "execution_count": 25,
   "metadata": {},
   "outputs": [
    {
     "name": "stdout",
     "output_type": "stream",
     "text": [
      "3466\t937\r",
      "\r\n",
      "3466\t5233\r",
      "\r\n",
      "3466\t8579\r",
      "\r\n",
      "3466\t10310\r",
      "\r\n",
      "3466\t15931\r",
      "\r\n",
      "3466\t17038\r",
      "\r\n",
      "3466\t18720\r",
      "\r\n",
      "3466\t19607\r",
      "\r\n",
      "10310\t1854\r",
      "\r\n",
      "10310\t3466\r",
      "\r\n"
     ]
    }
   ],
   "source": [
    "!head ca-GrQc.txt"
   ]
  },
  {
   "cell_type": "markdown",
   "metadata": {
    "id": "J0WktKKXCHOw"
   },
   "source": [
    "Convert the edge format to adjacent list format"
   ]
  },
  {
   "cell_type": "code",
   "execution_count": 26,
   "metadata": {
    "id": "sLtW8UWgLHKe"
   },
   "outputs": [],
   "source": [
    "!python edge2adj.py ca-GrQc.txt # this generates file ca-GrQc.txt_adj"
   ]
  },
  {
   "cell_type": "code",
   "execution_count": 28,
   "metadata": {},
   "outputs": [
    {
     "name": "stdout",
     "output_type": "stream",
     "text": [
      "13 3\t7596 11196 19170\r\n",
      "14 1\t14171\r\n",
      "22 6\t106 11183 15793 19440 22618 25043\r\n",
      "24 4\t3858 15774 19517 23161\r\n",
      "25 1\t22891\r\n",
      "26 5\t1407 4550 11801 13096 13142\r\n",
      "27 4\t11114 19081 24726 25540\r\n",
      "28 1\t7916\r\n",
      "29 1\t20243\r\n",
      "45 49\t570 773 1186 1653 2212 2741 2952 3372 4164 4180 4511 4513 6179 6610 6830 7956 8879 9785 11241 11472 12365 12496 12679 12781 12851 14540 14807 15003 15659 17655 17692 18719 18866 18894 19423 19961 20108 20562 20635 21012 21281 21508 21847 22691 22887 23293 24955 25346 25758\r\n"
     ]
    }
   ],
   "source": [
    "!head ca-GrQc.txt_adj # vertex_ID  adjacency_list_length \\t neigbhor1ID  neigbhor2ID  ..."
   ]
  },
  {
   "cell_type": "markdown",
   "metadata": {
    "id": "RjQWp9o1CKv4"
   },
   "source": [
    "The quasi-clique input format should be one vertex per line, and each line only needs the vertex IDs in the adjacency list.\n",
    "\n",
    "Right now the vertices have been sorted by ID, however, there are some missing vertices like 15 and 23 which we need to insert empty lines.\n",
    "\n",
    "We also need to remove the first 2 columns which are not part of the adjacency lists. The output file is named as `input_data`."
   ]
  },
  {
   "cell_type": "code",
   "execution_count": 52,
   "metadata": {
    "id": "fw341AKGLHKf"
   },
   "outputs": [],
   "source": [
    "!chmod +x prepare_quick.sh\n",
    "!./prepare_quick.sh ca-GrQc.txt_adj input_data"
   ]
  },
  {
   "cell_type": "markdown",
   "metadata": {},
   "source": [
    "## Preparing the T-thinker Programs\n"
   ]
  },
  {
   "cell_type": "markdown",
   "metadata": {
    "id": "7xApaNQ5CPE3"
   },
   "source": [
    "Extract T-thinker code into \"T-thinker\" folder"
   ]
  },
  {
   "cell_type": "code",
   "execution_count": 53,
   "metadata": {
    "colab": {
     "base_uri": "https://localhost:8080/"
    },
    "id": "ka9tZ4rRLHKf",
    "outputId": "ae31cc25-841a-438d-9a52-2b4d2270eb53",
    "scrolled": true
   },
   "outputs": [
    {
     "name": "stdout",
     "output_type": "stream",
     "text": [
      "Archive:  T-thinker.zip\n",
      "ec062f8c11b6d61df3910e5424e516ef07ac9e69\n",
      "   creating: T-thinker-master/\n",
      "  inflating: T-thinker-master/.gitignore  \n",
      "  inflating: T-thinker-master/README.md  \n",
      "   creating: T-thinker-master/app_kernel/\n",
      "  inflating: T-thinker-master/app_kernel/Makefile  \n",
      "  inflating: T-thinker-master/app_kernel/data.h  \n",
      "  inflating: T-thinker-master/app_kernel/graph.h  \n",
      "  inflating: T-thinker-master/app_kernel/kernel_app.h  \n",
      "  inflating: T-thinker-master/app_kernel/postprocess.sh  \n",
      "  inflating: T-thinker-master/app_kernel/run.cpp  \n",
      "  inflating: T-thinker-master/app_kernel/run.sh  \n",
      "  inflating: T-thinker-master/app_kernel/trie.h  \n",
      "   creating: T-thinker-master/app_kernel/util/\n",
      "  inflating: T-thinker-master/app_kernel/util/rwlock.h  \n",
      "   creating: T-thinker-master/app_qc/\n",
      "  inflating: T-thinker-master/app_qc/Makefile  \n",
      "  inflating: T-thinker-master/app_qc/data.h  \n",
      "   creating: T-thinker-master/app_qc/data/\n",
      "  inflating: T-thinker-master/app_qc/data/Enron_q  \n",
      "  inflating: T-thinker-master/app_qc/data/GSE10158_q  \n",
      "  inflating: T-thinker-master/app_qc/data/GSE1730_q  \n",
      "  inflating: T-thinker-master/app_qc/data/grqc_q  \n",
      "  inflating: T-thinker-master/app_qc/graph.h  \n",
      "  inflating: T-thinker-master/app_qc/qc_app.h  \n",
      "  inflating: T-thinker-master/app_qc/run.cpp  \n",
      "  inflating: T-thinker-master/app_qc/run_all.sh  \n",
      "  inflating: T-thinker-master/app_qc/trie.h  \n",
      "   creating: T-thinker-master/app_qc/util/\n",
      "  inflating: T-thinker-master/app_qc/util/rwlock.h  \n",
      "  inflating: T-thinker-master/comper.h  \n",
      "  inflating: T-thinker-master/conque.h  \n",
      "  inflating: T-thinker-master/global.h  \n",
      "   creating: T-thinker-master/imgs/\n",
      "  inflating: T-thinker-master/imgs/img1.PNG  \n",
      "  inflating: T-thinker-master/imgs/img2.PNG  \n",
      "  inflating: T-thinker-master/imgs/img3.PNG  \n",
      "  inflating: T-thinker-master/ioser.h  \n",
      "   creating: T-thinker-master/maximal_check/\n",
      "  inflating: T-thinker-master/maximal_check/Makefile  \n",
      "  inflating: T-thinker-master/maximal_check/RmNonMax.cpp  \n",
      "  inflating: T-thinker-master/maximal_check/RmNonMax.h  \n",
      "  inflating: T-thinker-master/maximal_check/RmNonMax.o  \n",
      "  inflating: T-thinker-master/maximal_check/data.cpp  \n",
      "  inflating: T-thinker-master/maximal_check/data.h  \n",
      "  inflating: T-thinker-master/maximal_check/data.o  \n",
      "  inflating: T-thinker-master/maximal_check/graph.cpp  \n",
      "  inflating: T-thinker-master/maximal_check/graph.h  \n",
      "  inflating: T-thinker-master/maximal_check/graph.o  \n",
      "  inflating: T-thinker-master/maximal_check/main.cpp  \n",
      "  inflating: T-thinker-master/maximal_check/main.o  \n",
      "  inflating: T-thinker-master/maximal_check/quasiCliques  \n",
      "  inflating: T-thinker-master/serialization.h  \n",
      "  inflating: T-thinker-master/task.h  \n",
      "  inflating: T-thinker-master/worker.h  \n"
     ]
    }
   ],
   "source": [
    "!unzip T-thinker.zip\n",
    "!mv T-thinker-master T-thinker"
   ]
  },
  {
   "cell_type": "markdown",
   "metadata": {
    "id": "qwYR5ka5CRiX"
   },
   "source": [
    "Compile the quasi-clique program and post-process program"
   ]
  },
  {
   "cell_type": "code",
   "execution_count": 54,
   "metadata": {
    "colab": {
     "base_uri": "https://localhost:8080/"
    },
    "id": "p5tke_PDLHKf",
    "outputId": "9daa8e67-5999-4647-b281-8aa9fda03086",
    "scrolled": true
   },
   "outputs": [
    {
     "name": "stdout",
     "output_type": "stream",
     "text": [
      "rm run\n",
      "rm: run: No such file or directory\n",
      "make: [clean] Error 1 (ignored)\n",
      "g++ -g -std=c++11 -fopenmp -lpthread run.cpp -O2  -o run\n",
      "clang: \u001b[0;1;31merror: \u001b[0munsupported option '-fopenmp'\u001b[0m\n",
      "clang: \u001b[0;1;31merror: \u001b[0munsupported option '-fopenmp'\u001b[0m\n",
      "make: *** [run] Error 1\n",
      "rm *.o\n",
      "g++ -c -O3 -Wall main.cpp\n",
      "In file included from main.cpp:9:\n",
      "\u001b[1m./graph.h:3:9: \u001b[0m\u001b[0;1;35mwarning: \u001b[0m\u001b[1munknown pragma ignored [-Wunknown-pragmas]\u001b[0m\n",
      "#pragma warning (disable:4996)\n",
      "\u001b[0;1;32m        ^\n",
      "\u001b[0m\u001b[1mmain.cpp:23:15: \u001b[0m\u001b[0;1;35mwarning: \u001b[0m\u001b[1munused variable 'num_of_vertices' [-Wunused-variable]\u001b[0m\n",
      "        int narg_no, num_of_vertices;\n",
      "\u001b[0;1;32m                     ^\n",
      "\u001b[0m\u001b[1mmain.cpp:23:6: \u001b[0m\u001b[0;1;35mwarning: \u001b[0m\u001b[1munused variable 'narg_no' [-Wunused-variable]\u001b[0m\n",
      "        int narg_no, num_of_vertices;\n",
      "\u001b[0;1;32m            ^\n",
      "\u001b[0m3 warnings generated.\n",
      "g++ -c -O3 -Wall graph.cpp\n",
      "In file included from graph.cpp:7:\n",
      "\u001b[1m./graph.h:3:9: \u001b[0m\u001b[0;1;35mwarning: \u001b[0m\u001b[1munknown pragma ignored [-Wunknown-pragmas]\u001b[0m\n",
      "#pragma warning (disable:4996)\n",
      "\u001b[0;1;32m        ^\n",
      "\u001b[0mIn file included from graph.cpp:8:\n",
      "\u001b[1m./data.h:3:9: \u001b[0m\u001b[0;1;35mwarning: \u001b[0m\u001b[1munknown pragma ignored [-Wunknown-pragmas]\u001b[0m\n",
      "#pragma warning (disable:4996)\n",
      "\u001b[0;1;32m        ^\n",
      "\u001b[0m\u001b[1mgraph.cpp:94:68: \u001b[0m\u001b[0;1;35mwarning: \u001b[0m\u001b[1m'&&' within '||' [-Wlogical-op-parentheses]\u001b[0m\n",
      "  ...&& (!mblvl2_flag || mblvl2_flag && mpplvl2_nbs[i][0]>=gnmin_size-1)) // ...\n",
      "\u001b[0;1;32m                      ~~ ~~~~~~~~~~~~^~~~~~~~~~~~~~~~~~~~~~~~~~~~~~~~~~\n",
      "\u001b[0m\u001b[1mgraph.cpp:94:68: \u001b[0m\u001b[0;1;30mnote: \u001b[0mplace parentheses around the '&&' expression to silence\n",
      "      this warning\u001b[0m\n",
      "  ...&& (!mblvl2_flag || mblvl2_flag && mpplvl2_nbs[i][0]>=gnmin_size-1)) // ...\n",
      "\u001b[0;1;32m                                     ^\n",
      "\u001b[0m\u001b[0;32m                         (                                             )\n",
      "\u001b[0m\u001b[1mgraph.cpp:618:31: \u001b[0m\u001b[0;1;35mwarning: \u001b[0m\u001b[1m'&&' within '||' [-Wlogical-op-parentheses]\u001b[0m\n",
      "  ...pvertices[i].ncand_deg==0 && pvertices[i].nclique_deg<GetMinDeg(nclique_size+1)...\n",
      "\u001b[0;1;32m     ~~~~~~~~~~~~~~~~~~~~~~~~~~^~~~~~~~~~~~~~~~~~~~~~~~~~~~~~~~~~~~~~~~~~~~~~~~~~~~~\n",
      "\u001b[0m\u001b[1mgraph.cpp:618:31: \u001b[0m\u001b[0;1;30mnote: \u001b[0mplace parentheses around the '&&' expression to silence\n",
      "      this warning\u001b[0m\n",
      "  ...pvertices[i].ncand_deg==0 && pvertices[i].nclique_deg<GetMinDeg(nclique_size+1) || \n",
      "\u001b[0;1;32m                               ^\n",
      "\u001b[0m\u001b[0;32m     (                                                                              )\n",
      "\u001b[0m\u001b[1mgraph.cpp:2028:15: \u001b[0m\u001b[0;1;35mwarning: \u001b[0m\u001b[1mexplicitly assigning value of variable of type 'int'\n",
      "      to itself [-Wself-assign]\u001b[0m\n",
      "                                                        norder = norder...\n",
      "\u001b[0;1;32m                                                        ~~~~~~ ^ ~~~~~~\n",
      "\u001b[0m\u001b[1mgraph.cpp:2031:14: \u001b[0m\u001b[0;1;35mwarning: \u001b[0m\u001b[1mexplicitly assigning value of variable of type 'int'\n",
      "      to itself [-Wself-assign]\u001b[0m\n",
      "                                                norder = norder;\n",
      "\u001b[0;1;32m                                                ~~~~~~ ^ ~~~~~~\n",
      "\u001b[0m\u001b[1mgraph.cpp:2034:13: \u001b[0m\u001b[0;1;35mwarning: \u001b[0m\u001b[1mexplicitly assigning value of variable of type 'int'\n",
      "      to itself [-Wself-assign]\u001b[0m\n",
      "                                        norder = norder;\n",
      "\u001b[0;1;32m                                        ~~~~~~ ^ ~~~~~~\n",
      "\u001b[0m\u001b[1mgraph.cpp:2037:12: \u001b[0m\u001b[0;1;35mwarning: \u001b[0m\u001b[1mexplicitly assigning value of variable of type 'int'\n",
      "      to itself [-Wself-assign]\u001b[0m\n",
      "                                norder = norder;\n",
      "\u001b[0;1;32m                                ~~~~~~ ^ ~~~~~~\n",
      "\u001b[0m8 warnings generated.\n",
      "g++ -c -O3 -Wall RmNonMax.cpp\n",
      "In file included from RmNonMax.cpp:5:\n",
      "\u001b[1m./graph.h:3:9: \u001b[0m\u001b[0;1;35mwarning: \u001b[0m\u001b[1munknown pragma ignored [-Wunknown-pragmas]\u001b[0m\n",
      "#pragma warning (disable:4996)\n",
      "\u001b[0;1;32m        ^\n",
      "\u001b[0m1 warning generated.\n",
      "g++ -c -O3 -Wall data.cpp\n",
      "In file included from data.cpp:7:\n",
      "\u001b[1m./data.h:3:9: \u001b[0m\u001b[0;1;35mwarning: \u001b[0m\u001b[1munknown pragma ignored [-Wunknown-pragmas]\u001b[0m\n",
      "#pragma warning (disable:4996)\n",
      "\u001b[0;1;32m        ^\n",
      "\u001b[0m1 warning generated.\n",
      "g++ -O3 -Wall main.o graph.o RmNonMax.o data.o -o quasiCliques\n"
     ]
    }
   ],
   "source": [
    "!cd T-thinker/app_qc && make clean && make\n",
    "!cd T-thinker/maximal_check && make clean && make"
   ]
  },
  {
   "cell_type": "markdown",
   "metadata": {
    "id": "kui5waiwCV-2"
   },
   "source": [
    "Run quasi-clique program: ./run [input_data] [thread_num] [ratio] [min_size] [time_split_threshold]"
   ]
  },
  {
   "cell_type": "code",
   "execution_count": null,
   "metadata": {
    "colab": {
     "base_uri": "https://localhost:8080/"
    },
    "id": "_cmmB0ssLHKf",
    "outputId": "2a7ce333-c13a-491e-d94d-7f4e078c0bed",
    "scrolled": true
   },
   "outputs": [],
   "source": [
    "!T-thinker/app_qc/run input_data 5 0.8 10 5"
   ]
  },
  {
   "cell_type": "markdown",
   "metadata": {
    "id": "LNWLpywzw5bf"
   },
   "source": [
    "Collect the result generated by different threads and post-process the result"
   ]
  },
  {
   "cell_type": "code",
   "execution_count": null,
   "metadata": {
    "colab": {
     "base_uri": "https://localhost:8080/"
    },
    "id": "xP1yG55ELHKf",
    "outputId": "010c1e77-e44d-4878-c095-60533dc41b34"
   },
   "outputs": [],
   "source": [
    "!cat output_* > result && rm output_*\n",
    "!T-thinker/maximal_check/quasiCliques result maximal_result"
   ]
  },
  {
   "cell_type": "markdown",
   "metadata": {
    "id": "5Hirk6Qvw83G"
   },
   "source": [
    "Read the edgelist"
   ]
  },
  {
   "cell_type": "code",
   "execution_count": null,
   "metadata": {
    "id": "w-QvKZ6PLHKg"
   },
   "outputs": [],
   "source": [
    "import networkx as nx\n",
    "import matplotlib.pyplot as plt\n",
    "import pickle\n",
    "\n",
    "fh=open(\"ca-GrQc.txt\", 'rb')\n",
    "#G=nx.read_adjlist(fh)\n",
    "G=nx.read_edgelist(fh)\n",
    "fh.close()"
   ]
  },
  {
   "cell_type": "markdown",
   "metadata": {
    "id": "caTvNqNHxAy2"
   },
   "source": [
    "Get the top-2 quasi-clique in the result"
   ]
  },
  {
   "cell_type": "code",
   "execution_count": null,
   "metadata": {
    "id": "B7t6DMSRLHKg"
   },
   "outputs": [],
   "source": [
    "with open('maximal_result') as f:\n",
    "    first_line = f.readline()\n",
    "    sec_line = f.readline()\n",
    "max_qc = set(first_line.split()[1:])\n",
    "sec_qc = set(sec_line.split()[1:])"
   ]
  },
  {
   "cell_type": "markdown",
   "metadata": {
    "id": "A2j2SfNSxDbm"
   },
   "source": [
    "Print the largest quasi-clique"
   ]
  },
  {
   "cell_type": "code",
   "execution_count": null,
   "metadata": {
    "colab": {
     "base_uri": "https://localhost:8080/",
     "height": 319
    },
    "id": "5P4c6_qlLHKg",
    "outputId": "682d0a4d-212d-4fa1-c2ef-0420be273cf3",
    "scrolled": true
   },
   "outputs": [],
   "source": [
    "S1 = G.subgraph(max_qc)\n",
    "nx.draw(S1)\n",
    "plt.show()"
   ]
  },
  {
   "cell_type": "markdown",
   "metadata": {
    "id": "M93pHd30xMft"
   },
   "source": [
    "Print the second largest quasi-clique"
   ]
  },
  {
   "cell_type": "code",
   "execution_count": null,
   "metadata": {
    "colab": {
     "base_uri": "https://localhost:8080/",
     "height": 319
    },
    "id": "z_O-0E7YLHKg",
    "outputId": "7fe3e71b-9763-405e-f579-f3944dc4edcd"
   },
   "outputs": [],
   "source": [
    "# \n",
    "S2 = G.subgraph(sec_qc)\n",
    "npos=nx.circular_layout(S2)\n",
    "nx.draw(S2, npos, with_labels = True, node_size = 30)\n",
    "plt.show()"
   ]
  }
 ],
 "metadata": {
  "colab": {
   "collapsed_sections": [],
   "name": "Tthinker_demo.ipynb",
   "provenance": [],
   "toc_visible": true
  },
  "kernelspec": {
   "display_name": "Python 3",
   "language": "python",
   "name": "python3"
  },
  "language_info": {
   "codemirror_mode": {
    "name": "ipython",
    "version": 3
   },
   "file_extension": ".py",
   "mimetype": "text/x-python",
   "name": "python",
   "nbconvert_exporter": "python",
   "pygments_lexer": "ipython3",
   "version": "3.7.6"
  }
 },
 "nbformat": 4,
 "nbformat_minor": 1
}
